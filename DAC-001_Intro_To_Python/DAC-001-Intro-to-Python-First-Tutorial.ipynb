{
 "cells": [
  {
   "cell_type": "markdown",
   "metadata": {},
   "source": [
    "Question 1 : Lists task"
   ]
  },
  {
   "cell_type": "code",
   "execution_count": 14,
   "metadata": {},
   "outputs": [
    {
     "name": "stdout",
     "output_type": "stream",
     "text": [
      "['apple', 'orange', 'banana']\n",
      "['apple', 'orange', 'banana', 'tomato']\n",
      "['orange', 'banana', 'tomato']\n"
     ]
    }
   ],
   "source": [
    "#Make a list\n",
    "fruits = [\"apple\", \"orange\", \"banana\"]\n",
    "print(fruits)\n",
    "\n",
    "#Add \"tomato\" into list\n",
    "fruits.append(\"tomato\")\n",
    "print(fruits)\n",
    "\n",
    "#Remove \"apple\" into list\n",
    "fruits.remove(\"apple\")\n",
    "print(fruits)"
   ]
  },
  {
   "cell_type": "markdown",
   "metadata": {},
   "source": [
    "Question 2 : Tuples task"
   ]
  },
  {
   "cell_type": "code",
   "execution_count": 13,
   "metadata": {},
   "outputs": [
    {
     "name": "stdout",
     "output_type": "stream",
     "text": [
      "('physics', 'chemistry', 'english', 'math', 'biology')\n",
      "['physics', 'chemistry', 'english', 'math', 'biology', 'literature']\n",
      "5\n"
     ]
    }
   ],
   "source": [
    "#Make a tuple\n",
    "subjects = (\"physics\", \"chemistry\", \"english\", \"math\", \"biology\")\n",
    "print(subjects)\n",
    "\n",
    "#Alternative way is to make tuple into a list as list can be appended.\n",
    "subjects_list = list(subjects)\n",
    "subjects_list.append(\"literature\")\n",
    "print(subjects_list)\n",
    "\n",
    "#Counting number of subjects in tuple\n",
    "count = len(subjects)\n",
    "print(count)\n",
    "\n"
   ]
  },
  {
   "cell_type": "markdown",
   "metadata": {},
   "source": [
    "Question 3: Sorting lists task"
   ]
  },
  {
   "cell_type": "code",
   "execution_count": 19,
   "metadata": {},
   "outputs": [
    {
     "name": "stdout",
     "output_type": "stream",
     "text": [
      "(10, 6, 7, 8, 9, 3)\n",
      "[10, 9, 8, 7, 6, 3]\n",
      "None\n"
     ]
    }
   ],
   "source": [
    "#Make a list\n",
    "students_id = (10, 6, 7, 8, 9, 3)\n",
    "print(students_id)\n",
    "\n",
    "#Sort in descending order\n",
    "sorted_students_id = sorted(students_id, reverse=True)\n",
    "print(sorted_students_id)\n",
    "\n",
    "#Clear list\n",
    "sorted_students_id.clear()\n",
    "print(sorted_students_id.clear())"
   ]
  },
  {
   "cell_type": "markdown",
   "metadata": {},
   "source": [
    "Question 4: Generating lists task"
   ]
  },
  {
   "cell_type": "code",
   "execution_count": 22,
   "metadata": {},
   "outputs": [
    {
     "name": "stdout",
     "output_type": "stream",
     "text": [
      "[15, 12, 9, 6, 3]\n"
     ]
    }
   ],
   "source": [
    "desc_list = []\n",
    "number = 15\n",
    "\n",
    "#Decrease number by 3 until last positive integer\n",
    "while number > 0:\n",
    "    desc_list.append(number)\n",
    "    number-= 3\n",
    "\n",
    "print(desc_list)"
   ]
  },
  {
   "cell_type": "markdown",
   "metadata": {},
   "source": [
    "Question 5: Generating lists task"
   ]
  },
  {
   "cell_type": "code",
   "execution_count": 27,
   "metadata": {},
   "outputs": [
    {
     "name": "stdout",
     "output_type": "stream",
     "text": [
      "[2, 4, 6, 8, 10, 12, 14, 16, 18, 20, 22, 24, 26, 28]\n"
     ]
    }
   ],
   "source": [
    "asc_list = []\n",
    "number = 2\n",
    "\n",
    "#Increase number by 2 until 28\n",
    "while number <= 28:\n",
    "    asc_list.append(number)\n",
    "    number += 2\n",
    "\n",
    "print(asc_list)"
   ]
  },
  {
   "cell_type": "markdown",
   "metadata": {},
   "source": [
    "Question 6: Combining and seperating lists task"
   ]
  },
  {
   "cell_type": "code",
   "execution_count": 30,
   "metadata": {},
   "outputs": [
    {
     "name": "stdout",
     "output_type": "stream",
     "text": [
      "[15, 12, 9, 6, 3, 2, 4, 6, 8, 10, 12, 14, 16, 18, 20, 22, 24, 26, 28]\n",
      "[12, 6, 2, 4, 6, 8, 10, 12, 14, 16, 18, 20, 22, 24, 26, 28]\n",
      "[15, 9, 3]\n"
     ]
    }
   ],
   "source": [
    "combined_list = desc_list + asc_list\n",
    "print(combined_list)\n",
    "\n",
    "#Seperate even and odd numbers\n",
    "even_numbers = [num for num in combined_list if num % 2 == 0]\n",
    "odd_numbers = [num for num in combined_list if num % 2 != 0]\n",
    "\n",
    "print(even_numbers)\n",
    "print(odd_numbers)"
   ]
  },
  {
   "cell_type": "markdown",
   "metadata": {},
   "source": [
    "Question 7: Functions task "
   ]
  },
  {
   "cell_type": "code",
   "execution_count": 31,
   "metadata": {},
   "outputs": [
    {
     "name": "stdout",
     "output_type": "stream",
     "text": [
      "Area: 28.274333882308138, circumference: 18.84955592153876\n"
     ]
    }
   ],
   "source": [
    "import math\n",
    "\n",
    "def circle_properties(radius): \n",
    "    area = math.pi * radius ** 2\n",
    "    circumference = 2 * math.pi * radius\n",
    "    return area, circumference\n",
    "\n",
    "radius = 3\n",
    "area, circumference = circle_properties(radius)\n",
    "print(f\"Area: {area}, circumference: {circumference}\")"
   ]
  },
  {
   "cell_type": "markdown",
   "metadata": {},
   "source": [
    "Question 8: Custom function task "
   ]
  },
  {
   "cell_type": "code",
   "execution_count": 35,
   "metadata": {},
   "outputs": [
    {
     "name": "stdout",
     "output_type": "stream",
     "text": [
      "Hi Harini! I am Manasa.\n"
     ]
    }
   ],
   "source": [
    "#I am going to attempt making a greeting function which will greet a user when they put their name.\n",
    "def greet_user(name):\n",
    "    return f\"Hi {name}! I am Manasa.\"\n",
    "\n",
    "greeting = greet_user(\"Harini\")\n",
    "print(greeting)\n"
   ]
  },
  {
   "cell_type": "markdown",
   "metadata": {},
   "source": [
    "Question 9: Creating and manipulating dictionaries task "
   ]
  },
  {
   "cell_type": "code",
   "execution_count": 39,
   "metadata": {},
   "outputs": [
    {
     "name": "stdout",
     "output_type": "stream",
     "text": [
      "Initial dictionary: {'Alice': 85, 'Bob': 90, 'Charlie': 78}\n",
      "After adding David: {'Alice': 85, 'Bob': 90, 'Charlie': 78, 'David': 92}\n",
      "After updating Alice's grade: {'Alice': 88, 'Bob': 90, 'Charlie': 78, 'David': 92}\n"
     ]
    }
   ],
   "source": [
    "student_grades = {\n",
    "    \"Alice\": 85,\n",
    "    \"Bob\": 90,\n",
    "    \"Charlie\": 78\n",
    "}\n",
    "print(\"Initial dictionary:\", student_grades)\n",
    "\n",
    "#Add David's grade\n",
    "student_grades[\"David\"] = 92\n",
    "print(\"After adding David:\", student_grades)\n",
    "\n",
    "#Update Alice's grade\n",
    "student_grades[\"Alice\"] = 88\n",
    "print(\"After updating Alice's grade:\", student_grades)"
   ]
  },
  {
   "cell_type": "markdown",
   "metadata": {},
   "source": [
    "Question 10: Using dictionaries to count occurrences task"
   ]
  },
  {
   "cell_type": "code",
   "execution_count": 42,
   "metadata": {},
   "outputs": [
    {
     "name": "stdout",
     "output_type": "stream",
     "text": [
      "{'apple': 2, 'banana': 2, 'orange': 1}\n"
     ]
    }
   ],
   "source": [
    "fruits = [ \"apple\", \"banana\", \"orange\", \"banana\",\"apple\"]\n",
    "fruit_count = {}\n",
    "for fruit in fruits:\n",
    "    if fruit in fruit_count:\n",
    "        fruit_count[fruit] += 1\n",
    "    else: \n",
    "        fruit_count[fruit] = 1\n",
    "\n",
    "print(fruit_count)\n"
   ]
  },
  {
   "cell_type": "code",
   "execution_count": null,
   "metadata": {},
   "outputs": [],
   "source": []
  }
 ],
 "metadata": {
  "kernelspec": {
   "display_name": "Python 3",
   "language": "python",
   "name": "python3"
  },
  "language_info": {
   "codemirror_mode": {
    "name": "ipython",
    "version": 3
   },
   "file_extension": ".py",
   "mimetype": "text/x-python",
   "name": "python",
   "nbconvert_exporter": "python",
   "pygments_lexer": "ipython3",
   "version": "3.12.7"
  }
 },
 "nbformat": 4,
 "nbformat_minor": 2
}
